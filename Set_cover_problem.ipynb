{
 "cells": [
  {
   "cell_type": "markdown",
   "metadata": {},
   "source": [
    "# Жадный алгоритм / Greedy algorithm"
   ]
  },
  {
   "cell_type": "code",
   "execution_count": 1,
   "metadata": {
    "scrolled": false
   },
   "outputs": [
    {
     "name": "stdout",
     "output_type": "stream",
     "text": [
      "Множество S / set S: {1, 2, 3, 4, 5, 6, 7, 8, 9, 10}\n",
      "Подмножества, входящие в покрытие / subsets in cover:\n",
      "{1, 2, 3, 8, 9, 10}\n",
      "{4, 5, 7}\n",
      "{5, 6, 7}\n"
     ]
    }
   ],
   "source": [
    "# Пример / example\n",
    "S = set(range(1, 11))\n",
    "subsets = [set([1, 2, 3, 8, 9, 10]),\n",
    "           set([1, 2, 3, 4, 5]),\n",
    "           set([4, 5, 7]),\n",
    "           set([5, 6, 7]),\n",
    "           set([6, 7, 8, 9, 10])]\n",
    "\n",
    "\n",
    "def greedy_set_cover(S, subsets):\n",
    "\n",
    "    # Проверка на то, что элементы подмножеств смогут охватить множество S\n",
    "    # Checking existence of cover\n",
    "    elements = set(e for s in subsets for e in s)\n",
    "    if elements != S:\n",
    "        return None\n",
    "\n",
    "    covered = set() # Множество покрытых элементов / set of covered elements\n",
    "    cover = []      # Выбранные для покрытия подмножества / subsets in cover\n",
    "\n",
    "    # Основной цикл / main loop\n",
    "    while covered != elements:\n",
    "        subset = max(subsets, key=lambda s: len(s - covered))\n",
    "        cover.append(subset)\n",
    "        covered |= subset\n",
    "    return cover\n",
    "\n",
    "# Вывод результатов / results\n",
    "cover = greedy_set_cover(S, subsets)\n",
    "print(\"Множество S / set S:\",S)\n",
    "print(\"Подмножества, входящие в покрытие / subsets in cover:\")\n",
    "for subset in cover:\n",
    "    print(subset)"
   ]
  },
  {
   "cell_type": "markdown",
   "metadata": {},
   "source": [
    "# Генетический алгоритм / Genetic algorithm"
   ]
  },
  {
   "cell_type": "code",
   "execution_count": 2,
   "metadata": {},
   "outputs": [
    {
     "name": "stdout",
     "output_type": "stream",
     "text": [
      "universe: [10, 20, 30, 40, 50, 60, 70, 80, 90, 100, 110, 120, 130, 140, 150, 160, 170, 180, 190, 200]\n",
      "\n",
      "subsets:\n",
      "[10, 20, 30, 40, 80, 90, 110, 120, 130, 170, 180]\n",
      "[10, 20, 30, 40, 70, 90, 100, 140, 180, 200]\n",
      "[80, 140, 150, 180]\n",
      "[10, 20, 30, 40, 50, 60, 90, 110, 140, 180]\n",
      "[40, 130]\n",
      "[20, 40, 90, 120, 150, 170]\n",
      "[20, 30, 70, 100, 120, 170, 180]\n",
      "[80]\n",
      "[30, 40, 50, 60, 80, 100, 110, 120, 130, 170, 180, 190, 200]\n",
      "[30, 40, 50, 60, 70, 80, 90, 110, 170, 180, 200]\n",
      "[20, 40, 50, 60, 70, 80, 100, 110, 170, 190, 200]\n",
      "[50, 130, 150, 160]\n",
      "[50, 80, 90, 140, 180]\n",
      "[10, 20, 30, 50, 80, 120, 130, 150, 160, 200]\n",
      "[10, 30, 50, 60, 80, 90, 100, 130, 140, 160, 170]\n",
      "\n",
      "C [88, 93, 15, 88, 69, 97, 35, 99, 83, 44, 15, 38, 56, 21, 59]\n",
      "\n",
      "Существует покрытие / Existence of cover:\n",
      "Да / Yes\n"
     ]
    }
   ],
   "source": [
    "import random\n",
    "random.seed(42)\n",
    "\n",
    "# Генерация моножества для покрытия / generation set for cover\n",
    "universe = [i * 10 for i in range(1, 21)]\n",
    "\n",
    "# Генерация подмоножеств / generation of subsets\n",
    "subsets = [set(sorted(random.sample(universe, random.randint(1, len(universe) - 7)))) for i in range(15)]\n",
    "\n",
    "# Генерация весов / generation of weight\n",
    "C = [random.randint(1, 100) for i in range(len(subsets))]\n",
    "\n",
    "# Вывод входных данных / printing of input\n",
    "print(\"universe:\", universe)\n",
    "print(\"\\nsubsets:\")\n",
    "for sub in subsets:\n",
    "    print(sorted(sub))\n",
    "print(\"\\nC\", C)\n",
    "\n",
    "# Проверка на то, что покрытие существует / Checking existence of cover\n",
    "print(\"\\nСуществует покрытие / Existence of cover:\")\n",
    "elements = set(e for s in subsets for e in s)\n",
    "if sorted(elements) != universe:\n",
    "    print(\"Нет / No\")\n",
    "else:\n",
    "    print(\"Да / Yes\")"
   ]
  },
  {
   "cell_type": "code",
   "execution_count": 3,
   "metadata": {},
   "outputs": [],
   "source": [
    "def genetic_algorithm(universe, subsets, С, N = 100, t_max = 1000):\n",
    "    '''\n",
    "    universe - множество для покрытия / set to cover\n",
    "    subsets - спосок подмножеств / subsets \n",
    "    C - список стоимостей подмонжеств / weight of subsets\n",
    "    N - количество особей в популяции / number of individuals\n",
    "    t_max - количество эпох алгоритма / number of eras\n",
    "    '''\n",
    "    # Задание функции приспособленности (целевой функции)\n",
    "    # Setting fitness function\n",
    "    f = lambda ind: sum([C[j] * ind[j] for j in range(len(ind))])\n",
    "    \n",
    "    # Функция проверки того, что особь является покрытием множества\n",
    "    # Function of checking that individual is a cover\n",
    "    def check(x):\n",
    "        check_list = []\n",
    "        for j in range(len(subsets)):\n",
    "            if x[j]:\n",
    "                check_list.append(subsets[j])\n",
    "        \n",
    "        # Проверка на то, что элементы подмножеств смогут охватить множество S\n",
    "        # Checking existence of cover\n",
    "        elem = set(e for s in check_list for e in s)\n",
    "        if sorted(elem) != sorted(universe):\n",
    "            return False\n",
    "        else:\n",
    "            return True\n",
    "    \n",
    "    import random\n",
    "    ################# Step 1 Generation first population ###################\n",
    "    X = [[random.randint(0, 1) for j in range(len(subsets))] for i in range(N)]\n",
    "    \n",
    "    \n",
    "    t = 0            # Счетчик эпох / Counter of eras\n",
    "    indicator = 0    # Счетчик эпох без изменения популяции / Counter of eras without changes\n",
    "    \n",
    "    while t != t_max and indicator != len(universe): \n",
    "        past_X = X.copy()\n",
    "        \n",
    "        ########## Step 2. Selection of two individuals by tournament selection ############\n",
    "        f_list = [] # Cписок значений функции приспособленности для каждой особи в популяции / f values list\n",
    "        for i in range(len(X)):\n",
    "            if sum(X[i]) == 0:\n",
    "                X[i] = [1 for j in range(len(subsets))]\n",
    "        for x in X:\n",
    "            f_list.append(1 / f(x))\n",
    "            \n",
    "        Sum_P_list = sum(f_list)\n",
    "        P_list = list(map(lambda x: x / Sum_P_list, f_list))\n",
    "\n",
    "        # Находим накопленную сумму / Find the accumulated probability\n",
    "        import itertools\n",
    "        P_list_accum = list(itertools.accumulate(P_list))\n",
    "        \n",
    "        rand = random.random()\n",
    "\n",
    "        # Выбираем родительские особи / Choosing Parents\n",
    "        for k in range(len(P_list_accum)):\n",
    "            if P_list_accum[k] > rand:\n",
    "                parent1 = X[k - 1]\n",
    "                id1 = k - 1\n",
    "                parent2 = X[k]\n",
    "                id2 = k\n",
    "                break\n",
    "\n",
    "        ###################### Step 3 Crossover #####################\n",
    "        new_x = [] # new individual\n",
    "        p0 = sum([item for sublist in X for item in sublist]) / (len(subsets) * N)\n",
    "        p1 = 1 - p0\n",
    "        for j in range(len(parent1)):\n",
    "            if parent1[j] == parent2[j]:\n",
    "                new_x.append(parent1[j])\n",
    "            else:\n",
    "                if parent1[j] == 0:\n",
    "                    if 1 / f_list[id1] * p0 >= 1 / f_list[id2] * p1:\n",
    "                        new_x.append(parent1[j])\n",
    "                    else:\n",
    "                        new_x.append(parent2[j])\n",
    "                else:\n",
    "                    if 1 / f_list[id1] * p1 >= 1 / f_list[id2] * p0:\n",
    "                        new_x.append(parent1[j])\n",
    "                    else:\n",
    "                        new_x.append(parent2[j])\n",
    "\n",
    "        ###################### Step 4 Mutation ##################################\n",
    "        H = []\n",
    "        for j in range(len(new_x)):\n",
    "            H.append(random.uniform(0, 2 / N))\n",
    "        for j in range(len(new_x)):\n",
    "            if H[j] > 1 / N and new_x[j] == 1 and p1 > p0:\n",
    "                new_x[j] = 0\n",
    "            elif H[j] > 1 / N and new_x[j] == 0 and p0 > p1:\n",
    "                new_x[j] = 1\n",
    "\n",
    "        ################# Step 5  Decision Recovery Algorithm #################\n",
    "        M = 0\n",
    "        while M != set():\n",
    "            \n",
    "            # Step 5.1\n",
    "            K = []\n",
    "            for elem in universe:\n",
    "                var_list = set()\n",
    "                var = 0\n",
    "                for subset in subsets:\n",
    "                    if elem in subset:\n",
    "                        var_list.add(var)\n",
    "                    var += 1\n",
    "                K.append(var_list)\n",
    "            R = set([i for i in range(len(new_x)) if new_x[i]])\n",
    "            W = [len(R & i) for i in K]\n",
    "            M = set([list(universe)[i] for i in range(len(W)) if W[i] == 0])\n",
    "\n",
    "            # Step 5.2\n",
    "            var1=float(\"inf\")\n",
    "            var2=float(\"inf\")\n",
    "            S = None\n",
    "            min_S = float(\"inf\")\n",
    "            for j in range(len(subsets)):\n",
    "                if len(subsets[j] & M) != 0:\n",
    "                    var1 = C[j] / len(subsets[j] & M)\n",
    "                if var1 < min_S:\n",
    "                    min_S = var1\n",
    "                    S = subsets[j]\n",
    "                    var2 = j\n",
    "            if var2 !=float(\"inf\"):\n",
    "                R.add(var2)\n",
    "            if S!=None:\n",
    "                for i in range(len(W)):\n",
    "                    if universe[i] in S:\n",
    "                        W[i] += 1\n",
    "                M = M - S\n",
    "            \n",
    "            # Step 5.3\n",
    "            R_new = R.copy()\n",
    "            for j in R:\n",
    "                w_list = [W[universe.index(el)] > 1 for el in subsets[j]]\n",
    "                if all(w_list):\n",
    "                    R_new -= {j}\n",
    "                    for i in range(len(W)):\n",
    "                        if universe[i] in subsets[j]:\n",
    "                            W[i] -= 1\n",
    "            R = R_new\n",
    "            M = set([list(universe)[i] for i in range(len(W)) if W[i] == 0])\n",
    "\n",
    "            # Step 5.4 \n",
    "            new_x = [0] * len(subsets)\n",
    "            for el in R:\n",
    "                new_x[el] = 1\n",
    "\n",
    "        ################# Step 6 Replacing an individual in a population ######################\n",
    "        if new_x not in X:\n",
    "            d = [1 / x for x in f_list]\n",
    "            aver = sum(d) / len(d)\n",
    "            id_to_change = [i for i in range(len(d)) if d[i] >= aver]\n",
    "            X[random.choice(id_to_change)] = new_x\n",
    "        \n",
    "        # Подготовка к новой эпохе / Preparing for a new era\n",
    "        t += 1\n",
    "        if past_X == X:\n",
    "            indicator+=1\n",
    "        else:\n",
    "            indicator=0\n",
    "\n",
    "\n",
    "    # Проверка, что особь в популяции Х является покрытием. Если нет, заменяем значение f на бесконечность   \n",
    "    # Verification that an individual in population X is a cover. If not, replace f with infinity\n",
    "    res_list = []\n",
    "    for x in X:\n",
    "        if check(x):\n",
    "            res_list.append(f(x))\n",
    "        else:\n",
    "            res_list.append(float(\"inf\"))\n",
    "    \n",
    "    min_id = res_list.index(min(res_list))\n",
    "    res = X[min_id]\n",
    "    \n",
    "    return t,res_list[min_id],res"
   ]
  },
  {
   "cell_type": "code",
   "execution_count": 4,
   "metadata": {
    "scrolled": false
   },
   "outputs": [
    {
     "name": "stdout",
     "output_type": "stream",
     "text": [
      "Количество итераций / iterations: 173\n",
      "\n",
      "Минимальная цена / min price:  92\n",
      "\n",
      "Вектор цен / weight:\n",
      " [88, 93, 15, 88, 69, 97, 35, 99, 83, 44, 15, 38, 56, 21, 59]\n",
      "\n",
      "Выбранная особь / result individual :\n",
      " [0, 0, 0, 0, 0, 0, 0, 0, 0, 0, 1, 0, 1, 1, 0]\n",
      "\n",
      "Множество для покрытия / set to cover:\n",
      " [10, 20, 30, 40, 50, 60, 70, 80, 90, 100, 110, 120, 130, 140, 150, 160, 170, 180, 190, 200]\n",
      "\n",
      "Множества, входящие в покрытие / subsets to cover:\n",
      "[20, 40, 50, 60, 70, 80, 100, 110, 170, 190, 200]\n",
      "[50, 80, 90, 140, 180]\n",
      "[10, 20, 30, 50, 80, 120, 130, 150, 160, 200]\n"
     ]
    }
   ],
   "source": [
    "gen_res = genetic_algorithm(universe,subsets,C)\n",
    "\n",
    "# Вывод итогов / printing results \n",
    "print(\"Количество итераций / iterations:\",gen_res[0])\n",
    "print(\"\\nМинимальная цена / min price: \",gen_res[1])\n",
    "print(\"\\nВектор цен / weight:\\n\",C)\n",
    "print(\"\\nВыбранная особь / result individual :\\n\",gen_res[2])\n",
    "print(\"\\nМножество для покрытия / set to cover:\\n\",universe)\n",
    "print(\"\\nМножества, входящие в покрытие / subsets to cover:\")\n",
    "for j in range(len(subsets)):\n",
    "    if gen_res[2][j]:\n",
    "        print(sorted(subsets[j]))"
   ]
  },
  {
   "cell_type": "code",
   "execution_count": 5,
   "metadata": {},
   "outputs": [
    {
     "data": {
      "text/plain": [
       "Среднее кол-во итераций / mean num of iteration    130.603093\n",
       "Средняя цена покрытия / mean of min price           92.000000\n",
       "dtype: float64"
      ]
     },
     "execution_count": 5,
     "metadata": {},
     "output_type": "execute_result"
    }
   ],
   "source": [
    "# Проверка на сходимость алгоритма / Algorithm Convergence Check\n",
    "import random\n",
    "import time\n",
    "import pandas as pd\n",
    "import numpy as np\n",
    "pd.set_option('display.max_rows', 500)\n",
    "pd.set_option('display.width', 1000)\n",
    "import progressbar\n",
    "\n",
    "\n",
    "\n",
    "max_num = 200\n",
    "my_list = []\n",
    "for k in range(6,max_num):\n",
    "    my_list.append((genetic_algorithm(universe,subsets,C,N=100)[0:2]))\n",
    "pd.DataFrame(my_list,columns = [\"Среднее кол-во итераций / mean num of iteration\",\n",
    "                                \"Средняя цена покрытия / mean of min price\"]).apply(np.mean)"
   ]
  },
  {
   "cell_type": "code",
   "execution_count": 6,
   "metadata": {},
   "outputs": [
    {
     "name": "stderr",
     "output_type": "stream",
     "text": [
      "100% |########################################################################|\n"
     ]
    }
   ],
   "source": [
    "# Попытка оценить время работы алгоритма\n",
    "# Trying to estimate algorithm running time\n",
    "import random\n",
    "import time\n",
    "import progressbar\n",
    "\n",
    "bar = progressbar.ProgressBar().start()\n",
    "max_num = 100\n",
    "time_list = []\n",
    "for k in range(6,max_num):\n",
    "    start = time.time()\n",
    "    bar.update(k)\n",
    "    \n",
    "    # set to cover\n",
    "    universe = [i * 10 for i in range(1, k)]\n",
    "\n",
    "    # subsets\n",
    "    ind_time_check = 0\n",
    "    while ind_time_check != \"YES\":\n",
    "        subsets = [set(sorted(random.sample(universe, random.randint(1, len(universe) - 4)))) for i in range(15)]\n",
    "        elements = set(e for s in subsets for e in s)\n",
    "        if sorted(elements) != universe:\n",
    "            ind_time_check = \"NO\"\n",
    "        else:\n",
    "            ind_time_check = \"YES\"\n",
    "        \n",
    "    # weight\n",
    "    C = [random.randint(6, 100) for i in range(len(subsets))]\n",
    "    genetic_algorithm(universe,subsets,C,t_max=1000)\n",
    "    time_list.append(time.time()-start)\n",
    "bar.finish()"
   ]
  },
  {
   "cell_type": "code",
   "execution_count": 7,
   "metadata": {
    "scrolled": true
   },
   "outputs": [
    {
     "data": {
      "text/plain": [
       "<matplotlib.axes._subplots.AxesSubplot at 0x12394b978>"
      ]
     },
     "execution_count": 7,
     "metadata": {},
     "output_type": "execute_result"
    },
    {
     "data": {
      "image/png": "[encoded data removed]",
      "text/plain": [
       "<Figure size 432x288 with 1 Axes>"
      ]
     },
     "metadata": {
      "needs_background": "light"
     },
     "output_type": "display_data"
    }
   ],
   "source": [
    "import seaborn as sns\n",
    "%matplotlib inline\n",
    "sns.lineplot(x=range(6,max_num),y=time_list)"
   ]
  }
 ],
 "metadata": {
  "kernelspec": {
   "display_name": "Python 3",
   "language": "python",
   "name": "python3"
  },
  "language_info": {
   "codemirror_mode": {
    "name": "ipython",
    "version": 3
   },
   "file_extension": ".py",
   "mimetype": "text/x-python",
   "name": "python",
   "nbconvert_exporter": "python",
   "pygments_lexer": "ipython3",
   "version": "3.7.0"
  }
 },
 "nbformat": 4,
 "nbformat_minor": 2
}
